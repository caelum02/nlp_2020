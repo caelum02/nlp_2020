{
 "cells": [
  {
   "cell_type": "markdown",
   "metadata": {},
   "source": [
    "# Quiz1\n",
    "- 학습모델의 Performance 척도 숙지\n",
    "- jupyter notebook 사용 숙지\n",
    "\n",
    "- 파일이름을 Quiz1_학번_으로 변경 (Quiz1_2002_12345)\n",
    "- 아래의 뉴스기사 토픽을 예측하는 confusion matrix를 보고 각 토픽별 Precision, Recall, F1-score, Accuracy 테이블을 채워 놓아라.\n",
    "- 주피터 노트북에 markdown에 익숙하지 않은 사람들을 위해 x로 표시해 준 부분을 대체하면 됨.\n",
    "- 그 다음 Micro F1, Macro F1, Weighted F1을 계산하는 과정과 그 결과를 명시하라 \n",
    "- 엑셀을 사용해서 계산해도 됨"
   ]
  },
  {
   "cell_type": "markdown",
   "metadata": {},
   "source": [
    "                                                   True Class\n",
    "\n",
    "|            | Politics       | Economy      | Society       |  Sports |          |\n",
    "| :---       |    :----:      |         ---: |   ---:        |  ---:   |      ---:|\n",
    "| Politics   | 18             | 12           | 3             | 7       |          |\n",
    "| Economy    | 12             | 21           | 10            | 12      | PREDICTED|\n",
    "| Society    | 14             | 12           | 19            | 11      |          |\n",
    "| Sports     | 4             | 10           | 18            | 20      |          |"
   ]
  },
  {
   "cell_type": "markdown",
   "metadata": {},
   "source": [
    "## Your Answers"
   ]
  },
  {
   "cell_type": "markdown",
   "metadata": {},
   "source": [
    "|Class            | Precision      | Recall    | F1       |  Accuray |\n",
    "| :---       |    :----:     |         ---:|   ---:        |  ---:   |\n",
    "| Politics   | 0.45             | 0.38           | 0.41             | 0.74       |\n",
    "| Economy    | 0.22             | 0.38          | 0.1             | 0.68       |\n",
    "| Society    | 0.25             | 0.38           | 0.30            | 0.67       |\n",
    "| Sports     | 0.08             | 0.4           | 0.13             | 0.69       |"
   ]
  },
  {
   "cell_type": "markdown",
   "metadata": {},
   "source": [
    "### Micro F1:"
   ]
  },
  {
   "cell_type": "markdown",
   "metadata": {},
   "source": [
    "### Macro F1:"
   ]
  },
  {
   "cell_type": "markdown",
   "metadata": {},
   "source": [
    "### Weighted F1:"
   ]
  },
  {
   "cell_type": "code",
   "execution_count": null,
   "metadata": {},
   "outputs": [],
   "source": [
    "203"
   ]
  }
 ],
 "metadata": {
  "kernelspec": {
   "display_name": "Python 3",
   "language": "python",
   "name": "python3"
  },
  "language_info": {
   "codemirror_mode": {
    "name": "ipython",
    "version": 3
   },
   "file_extension": ".py",
   "mimetype": "text/x-python",
   "name": "python",
   "nbconvert_exporter": "python",
   "pygments_lexer": "ipython3",
   "version": "3.8.3"
  }
 },
 "nbformat": 4,
 "nbformat_minor": 4
}
